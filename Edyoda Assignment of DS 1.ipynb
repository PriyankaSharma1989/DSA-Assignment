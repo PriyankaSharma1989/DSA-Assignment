{
 "cells": [
  {
   "cell_type": "code",
   "execution_count": 3,
   "id": "ae7b2afd",
   "metadata": {},
   "outputs": [
    {
     "name": "stdout",
     "output_type": "stream",
     "text": [
      "[1, 4]\n",
      "[2, 3]\n"
     ]
    }
   ],
   "source": [
    "# Q1. Write a program to find all pairs of an integer array whose sum is equal to a given number?\n",
    "\n",
    "def Printpairs(arr,n,sum):\n",
    "    for i in range(len(arr)):\n",
    "        for j in range(i+1,(len(arr))):\n",
    "            if arr[i]+arr[j]==sum:\n",
    "                print([i,j])\n",
    "                \n",
    "arr=[1,2,3,4,5]\n",
    "n=len(arr)\n",
    "sum=7\n",
    "Printpairs(arr,n,sum)              "
   ]
  },
  {
   "cell_type": "code",
   "execution_count": 6,
   "id": "b3fc80cd",
   "metadata": {},
   "outputs": [
    {
     "name": "stdout",
     "output_type": "stream",
     "text": [
      "[1, 4, 7, 9, 8, 6]\n",
      "reverse array is: \n",
      "[6, 8, 9, 7, 4, 1]\n"
     ]
    }
   ],
   "source": [
    "# Q2. Write a program to reverse an array in place? In place means you cannot create a new array. You have to update the original array.\n",
    " \n",
    "    \n",
    "def reversearr(A):\n",
    "    print(A[::-1])\n",
    "    \n",
    "    \n",
    "A=[1,4,7,9,8,6]\n",
    "print(A)\n",
    "print(\"reverse array is: \")\n",
    "reversearr(A)"
   ]
  },
  {
   "cell_type": "code",
   "execution_count": 15,
   "id": "86e8be6d",
   "metadata": {},
   "outputs": [
    {
     "name": "stdout",
     "output_type": "stream",
     "text": [
      "strings are not rotation of each other\n"
     ]
    }
   ],
   "source": [
    "# Q3. Write a program to check if two strings are a rotation of each other?\n",
    "\n",
    "\n",
    "def isrotation(s1,s2,):\n",
    "    size1=len(s1)\n",
    "    size2=len(s2)\n",
    "    s3=''\n",
    "    if size1!=size2:\n",
    "        return False\n",
    "    \n",
    "        s3=s1+s1\n",
    "    if s2 in s3:\n",
    "        return True\n",
    "    else:\n",
    "        return False\n",
    "    \n",
    "s1=\"ABCD\"\n",
    "s2=\"CDAB\"\n",
    "if isrotation(s1,s2):\n",
    "    print(\"strings are rotation of each other \")\n",
    "else: \n",
    "    print(\"strings are not rotation of each other\")\n",
    "    \n",
    "        \n",
    "    "
   ]
  },
  {
   "cell_type": "code",
   "execution_count": 29,
   "id": "f1061c6c",
   "metadata": {},
   "outputs": [
    {
     "name": "stdout",
     "output_type": "stream",
     "text": [
      "first non-repeating character is p\n"
     ]
    }
   ],
   "source": [
    "# Q4 Write a program to print the first non-repeated character from a string?\n",
    "\n",
    "no_of_chars=256\n",
    "\n",
    "def getcharcountarray(Str):\n",
    "    count=[0]*no_of_chars\n",
    "    for i in Str:\n",
    "        count[ord(i)]+=1\n",
    "        return count\n",
    "    \n",
    "def firstnonrepeating(Str):\n",
    "    count=getcharcountarray(Str)\n",
    "    index=-1\n",
    "    k=0\n",
    "    for i in Str:\n",
    "        if count[ord(i)]==1:\n",
    "            index=k\n",
    "            break\n",
    "            k=k+1\n",
    "            return index\n",
    "        \n",
    "        \n",
    "Str=\"priyanka\"\n",
    "index=firstnonrepeating(Str)\n",
    "if index==1:\n",
    "    print(\"Either all characters are repeating or string is empty\")\n",
    "else:\n",
    "    print(\"first non-repeating character is\", Str[0])"
   ]
  },
  {
   "cell_type": "code",
   "execution_count": 33,
   "id": "623a26b7",
   "metadata": {},
   "outputs": [
    {
     "name": "stdout",
     "output_type": "stream",
     "text": [
      "Enter the number of disks :3\n"
     ]
    },
    {
     "ename": "NameError",
     "evalue": "name 'source' is not defined",
     "output_type": "error",
     "traceback": [
      "\u001b[1;31m---------------------------------------------------------------------------\u001b[0m",
      "\u001b[1;31mNameError\u001b[0m                                 Traceback (most recent call last)",
      "Input \u001b[1;32mIn [33]\u001b[0m, in \u001b[0;36m<cell line: 12>\u001b[1;34m()\u001b[0m\n\u001b[0;32m      9\u001b[0m         \u001b[38;5;28;01mreturn\u001b[39;00m tower_of_hanoi(disks\u001b[38;5;241m-\u001b[39m\u001b[38;5;241m1\u001b[39m,auxiliary,source,target)\n\u001b[0;32m     11\u001b[0m disks\u001b[38;5;241m=\u001b[39m\u001b[38;5;28mint\u001b[39m(\u001b[38;5;28minput\u001b[39m(\u001b[38;5;124m\"\u001b[39m\u001b[38;5;124mEnter the number of disks :\u001b[39m\u001b[38;5;124m\"\u001b[39m))\n\u001b[1;32m---> 12\u001b[0m tower_of_hanoi(disks,\u001b[43msource\u001b[49m,auxiliary,target)\n",
      "\u001b[1;31mNameError\u001b[0m: name 'source' is not defined"
     ]
    }
   ],
   "source": [
    "# Q5. Read about the Tower of Hanoi algorithm. Write a program to implement it.\n",
    "\n",
    "def tower_of_hanoi(disks,source,auxiliary,target):\n",
    "    source='A'\n",
    "    auxiliary='B'\n",
    "    target='C'\n",
    "    if disks==1:\n",
    "        print(\"move disk 1 from rod{} to rod{}\",format(source,target))\n",
    "        return tower_of_hanoi(disks-1,auxiliary,source,target)\n",
    "    \n",
    "disks=int(input(\"Enter the number of disks :\"))\n",
    "tower_of_hanoi(disks,source,auxiliary,target)"
   ]
  },
  {
   "cell_type": "code",
   "execution_count": 39,
   "id": "d0f8b482",
   "metadata": {},
   "outputs": [
    {
     "ename": "IndexError",
     "evalue": "list index out of range",
     "output_type": "error",
     "traceback": [
      "\u001b[1;31m---------------------------------------------------------------------------\u001b[0m",
      "\u001b[1;31mIndexError\u001b[0m                                Traceback (most recent call last)",
      "Input \u001b[1;32mIn [39]\u001b[0m, in \u001b[0;36m<cell line: 47>\u001b[1;34m()\u001b[0m\n\u001b[0;32m     43\u001b[0m     \u001b[38;5;28;01mreturn\u001b[39;00m ans\n\u001b[0;32m     46\u001b[0m post_exp \u001b[38;5;241m=\u001b[39m \u001b[38;5;124m\"\u001b[39m\u001b[38;5;124mAB+CD-\u001b[39m\u001b[38;5;124m\"\u001b[39m\n\u001b[1;32m---> 47\u001b[0m \u001b[38;5;28mprint\u001b[39m(\u001b[38;5;124m\"\u001b[39m\u001b[38;5;124mPrefix : \u001b[39m\u001b[38;5;124m\"\u001b[39m, \u001b[43mpostToPre\u001b[49m\u001b[43m(\u001b[49m\u001b[43mpost_exp\u001b[49m\u001b[43m)\u001b[49m)\n",
      "Input \u001b[1;32mIn [39]\u001b[0m, in \u001b[0;36mpostToPre\u001b[1;34m(post_exp)\u001b[0m\n\u001b[0;32m     27\u001b[0m \u001b[38;5;28;01mfor\u001b[39;00m i \u001b[38;5;129;01min\u001b[39;00m \u001b[38;5;28mrange\u001b[39m(length):\n\u001b[0;32m     28\u001b[0m     \u001b[38;5;28;01mif\u001b[39;00m (isOperator(post_exp[i])):\n\u001b[1;32m---> 29\u001b[0m         op1 \u001b[38;5;241m=\u001b[39m \u001b[43ms\u001b[49m\u001b[43m[\u001b[49m\u001b[38;5;241;43m-\u001b[39;49m\u001b[38;5;241;43m1\u001b[39;49m\u001b[43m]\u001b[49m\n\u001b[0;32m     30\u001b[0m         s\u001b[38;5;241m.\u001b[39mpop()\n\u001b[0;32m     31\u001b[0m         op2 \u001b[38;5;241m=\u001b[39m s[\u001b[38;5;241m-\u001b[39m\u001b[38;5;241m1\u001b[39m]\n",
      "\u001b[1;31mIndexError\u001b[0m: list index out of range"
     ]
    }
   ],
   "source": [
    "# Q6. Read about infix, prefix, and postfix expressions. Write a program to convert postfix to prefix expression.\n",
    "\n",
    "\n",
    "\n",
    "def isOperator(x):\n",
    " \n",
    "    if x == \"+\":\n",
    "        return True\n",
    " \n",
    "    if x == \"-\":\n",
    "        return True\n",
    " \n",
    "    if x == \"/\":\n",
    "        return True\n",
    " \n",
    "    if x == \"*\":\n",
    "        return True\n",
    " \n",
    "    return False\n",
    "\n",
    "\n",
    "def postToPre(post_exp):\n",
    " \n",
    "    s = []\n",
    " \n",
    "    length = len(post_exp)\n",
    "    for i in range(length):\n",
    "        if (isOperator(post_exp[i])):\n",
    "            op1 = s[-1]\n",
    "            s.pop()\n",
    "            op2 = s[-1]\n",
    "            s.pop()\n",
    "            temp = post_exp[i] + op2 + op1\n",
    "            s.append(temp)\n",
    "            \n",
    "    else:\n",
    "        s.append(post_exp[i])\n",
    " \n",
    "    \n",
    "    ans = \"\"\n",
    "    for i in s:\n",
    "        ans += i\n",
    "    return ans\n",
    " \n",
    "    \n",
    "post_exp = \"AB+CD-\"\n",
    "print(\"Prefix : \", postToPre(post_exp))\n",
    " \n",
    " \n",
    " "
   ]
  },
  {
   "cell_type": "code",
   "execution_count": 56,
   "id": "23974dfd",
   "metadata": {},
   "outputs": [],
   "source": [
    "# Q7. Write a program to convert prefix expression to infix expression.\n",
    "\n",
    "def prefixToInfix(prefix):\n",
    "    stack = []\n",
    "    i = len(prefix)-1\n",
    "    while i >= 0:\n",
    "        if not isOperator(prefix[i]):\n",
    "            stack.append(prefix[i])\n",
    "            i -= 1\n",
    "        else:\n",
    "            str = \"(\" + stack.pop() + prefix[i] + stack.pop() + \")\"\n",
    "            stack.append(str)\n",
    "            i -= 1\n",
    "     \n",
    "    return stack.pop()\n",
    "  \n",
    "def isOperator(c):\n",
    "    if c == \"*\" or c == \"+\" or c == \"-\" or c == \"/\" or c == \"^\" or c == \"(\" or c == \")\":\n",
    "        return True\n",
    "    else:\n",
    "        return False\n",
    "    str = \"*-A/BC-/AKL\"\n",
    "    print(prefixToInfix(str))\n",
    "     "
   ]
  },
  {
   "cell_type": "code",
   "execution_count": 59,
   "id": "9c98faee",
   "metadata": {},
   "outputs": [
    {
     "name": "stdout",
     "output_type": "stream",
     "text": [
      "balanced\n"
     ]
    }
   ],
   "source": [
    "# Q8. Write a program to check if all the brackets are closed in a given code snippet.\n",
    "\n",
    "str=\"[{}]\"\n",
    "stack=[]\n",
    "for i in range(len(str)):\n",
    "    if (str[i]==\"[\" or str[i]==\"{\" or str[i]==\"(\"):\n",
    "        stack.append(str[i])\n",
    "    elif (len(stack)!=0 and stack[-1]==\"[\" and str[i]==\"]\"):\n",
    "        stack.pop()\n",
    "    elif (len(stack)!=0 and stack[-1]==\"{\" and str[i]==\"}\"):\n",
    "        stack.pop()\n",
    "    elif (len(stack)!=0 and stack[-1]==\"(\" and str[i]==\")\"):\n",
    "        stack.pop()\n",
    "    else:\n",
    "        print(False)\n",
    "    \n",
    "if len(stack)==0:\n",
    "    print(\"balanced\")\n",
    "else:\n",
    "    print(\"not balanced\")"
   ]
  },
  {
   "cell_type": "code",
   "execution_count": 62,
   "id": "ee8624b8",
   "metadata": {},
   "outputs": [
    {
     "name": "stdout",
     "output_type": "stream",
     "text": [
      "Original Stack\n",
      "5\n",
      "4\n",
      "3\n",
      "2\n",
      "1\n",
      "\n",
      " Stack after Reversing\n"
     ]
    },
    {
     "ename": "NameError",
     "evalue": "name 'Reverse' is not defined",
     "output_type": "error",
     "traceback": [
      "\u001b[1;31m---------------------------------------------------------------------------\u001b[0m",
      "\u001b[1;31mNameError\u001b[0m                                 Traceback (most recent call last)",
      "Input \u001b[1;32mIn [62]\u001b[0m, in \u001b[0;36m<cell line: 46>\u001b[1;34m()\u001b[0m\n\u001b[0;32m     44\u001b[0m stk\u001b[38;5;241m.\u001b[39mshow()\n\u001b[0;32m     45\u001b[0m \u001b[38;5;28mprint\u001b[39m(\u001b[38;5;124m\"\u001b[39m\u001b[38;5;130;01m\\n\u001b[39;00m\u001b[38;5;124m Stack after Reversing\u001b[39m\u001b[38;5;124m\"\u001b[39m)\n\u001b[1;32m---> 46\u001b[0m \u001b[43mReverse\u001b[49m(s)\n\u001b[0;32m     47\u001b[0m stk\u001b[38;5;241m.\u001b[39mshow()\n",
      "\u001b[1;31mNameError\u001b[0m: name 'Reverse' is not defined"
     ]
    }
   ],
   "source": [
    "# Q9. Write a program to reverse a stack.\n",
    "\n",
    "class Stack:\n",
    "    \n",
    "    def __init__(self):\n",
    "        self.Elements = []\n",
    "         \n",
    "    def push(self, value):\n",
    "        self.Elements.append(value)\n",
    "       \n",
    "    def pop(self):\n",
    "        return self.Elements.pop()\n",
    "     \n",
    "    def empty(self):\n",
    "        return self.Elements == []\n",
    "     \n",
    "    def show(self):\n",
    "        for value in reversed(self.Elements):\n",
    "            print(value)\n",
    "\n",
    "    def BottomInsert(s, value):\n",
    "        if s.empty():\n",
    "            s.push(value)\n",
    "        else:\n",
    "            popped = s.pop()\n",
    "            BottomInsert(s, value)\n",
    "            s.push(popped)\n",
    "    def Reverse(s):\n",
    "        if s.empty():\n",
    "            pass\n",
    "        else:\n",
    "            popped = s.pop()\n",
    "            Reverse(s)\n",
    "            BottomInsert(s, popped)\n",
    "\n",
    "stk = Stack()\n",
    "stk.push(1)\n",
    "stk.push(2)\n",
    "stk.push(3)\n",
    "stk.push(4)\n",
    "stk.push(5)\n",
    " \n",
    "print(\"Original Stack\")\n",
    "stk.show()\n",
    "print(\"\\n Stack after Reversing\")\n",
    "Reverse(s)\n",
    "stk.show()"
   ]
  },
  {
   "cell_type": "code",
   "execution_count": 64,
   "id": "33263483",
   "metadata": {},
   "outputs": [
    {
     "name": "stdout",
     "output_type": "stream",
     "text": [
      "Enter number of elements in list:5\n",
      "Enter the elements :10\n",
      "Enter the elements :23\n",
      "Enter the elements :12\n",
      "Enter the elements :52\n",
      "Enter the elements :16\n",
      "smallest element is: 10\n"
     ]
    }
   ],
   "source": [
    "#10. Write a program to find the smallest number using a stack.\n",
    "\n",
    "list=[]\n",
    "n=int(input(\"Enter number of elements in list:\"))\n",
    "for i in range(1,n+1):\n",
    "    ele=int(input(\"Enter the elements :\"))\n",
    "    list.append(ele)\n",
    "    \n",
    "print(\"smallest element is:\",min(list))"
   ]
  },
  {
   "cell_type": "code",
   "execution_count": null,
   "id": "f0e398b9",
   "metadata": {},
   "outputs": [],
   "source": []
  }
 ],
 "metadata": {
  "kernelspec": {
   "display_name": "Python 3 (ipykernel)",
   "language": "python",
   "name": "python3"
  },
  "language_info": {
   "codemirror_mode": {
    "name": "ipython",
    "version": 3
   },
   "file_extension": ".py",
   "mimetype": "text/x-python",
   "name": "python",
   "nbconvert_exporter": "python",
   "pygments_lexer": "ipython3",
   "version": "3.9.12"
  }
 },
 "nbformat": 4,
 "nbformat_minor": 5
}
